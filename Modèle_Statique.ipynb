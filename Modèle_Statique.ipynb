{
 "cells": [
  {
   "cell_type": "markdown",
   "id": "fdebb96a-b923-4a0a-8ae8-b7513cecbcda",
   "metadata": {
    "tags": []
   },
   "source": [
    "### Importation de l'environnement de travail\n",
    "\n",
    "#### Objectifs :\n",
    " - Analyser un bâtiment cubique avec 5 murs identiques et un mur transparent (fenêtre en verre), une infiltration d'air et un système CVC contrôlant la température de l'air intérieur.\n",
    " - Modéliser le transfert de chaleur dans le bâtiment par un circuit thermique.\n",
    " - Obtenir le modèle mathématique sous la forme d'un système d'équations algébriques différentielles (DAE) à partir du circuit thermique.\n",
    " - Transférez le système d'EAD dans une représentation de l'espace d'état.\n",
    " - Trouver la solution en régime permanent.\n",
    " - Simuler en utilisant les méthodes d'Euler pour l'intégration numérique..."
   ]
  },
  {
   "cell_type": "code",
   "execution_count": 15,
   "id": "b7ddbb5a",
   "metadata": {},
   "outputs": [],
   "source": [
    "import numpy as np\n",
    "import pandas as pd"
   ]
  },
  {
   "cell_type": "markdown",
   "id": "832deb96",
   "metadata": {},
   "source": [
    "### Dimensions du problème et description du batiment étudié\n",
    "\n",
    "<div>\n",
    "<img src=\"attachment:batiment.png\" width=\"400\"/>\n",
    "</div>\n",
    "\n",
    "> Figure 1. Schéma de la situation étudiée, deux salles controllées de manière proportionelle par un systeme HVAC.\n"
   ]
  },
  {
   "cell_type": "markdown",
   "id": "53b01cc2",
   "metadata": {},
   "source": [
    "#### Dimensions du batiment et paramètres physiques"
   ]
  },
  {
   "cell_type": "code",
   "execution_count": 16,
   "id": "c88b1b3c",
   "metadata": {},
   "outputs": [],
   "source": [
    "L = 6 #longueur\n",
    "l = 3 #largeur\n",
    "H = 3 #hauteur \n",
    "w1 = 0.20 #epaisseur des murs extérieurs\n",
    "w2 = 0.10 #epaisseur des murs intérieurs\n",
    "l_ambda = 1.70 #conductivité thermique beton\n",
    "l_ambdag = 1.40 #conductivité thermique verre\n",
    "E = 200 #rayonnement solaire\n",
    "h_0 = 25 #coefficient de convection exterieur\n",
    "h_i = 8 #coefficient de convection interieur"
   ]
  },
  {
   "cell_type": "markdown",
   "id": "f4dad3da",
   "metadata": {},
   "source": [
    "#### Temperatures et Conductances"
   ]
  },
  {
   "cell_type": "code",
   "execution_count": 17,
   "id": "d2ec661a",
   "metadata": {},
   "outputs": [],
   "source": [
    "T_ext = 5 #temperature exterieure\n",
    "T_1 = 20 #temperature consigne salle 1\n",
    "T_2 = 20 #temperature consigne salle 2\n",
    "\n",
    "k_1 = 10**8 #parametre de controle salle 1\n",
    "k_2 = 10**8 #parametre de controle salle 2\n",
    "\n",
    "#definition des conductances des différents murs\n",
    "Gi = h_i*H*(L + 2*l)\n",
    "Gi2 = h_i*H*L\n",
    "Gi3 = h_i*H*2*l\n",
    "G0 = h_0*H*(L + 2*l)\n",
    "G02 = h_0*H*L\n",
    "G03 = h_0*H*2*l\n",
    "G1 = (l_ambda/w1)*H*(L + 2*l)\n",
    "G2 = (l_ambda/w2)*H*L\n",
    "G3 = (l_ambda/w2)*H*2*l\n",
    "Gg = (l_ambdag/w2)*H*L"
   ]
  },
  {
   "cell_type": "markdown",
   "id": "b4edbed3",
   "metadata": {},
   "source": [
    "### Modèle statique"
   ]
  },
  {
   "cell_type": "markdown",
   "id": "2fe25fa7",
   "metadata": {},
   "source": [
    "#### Matrices"
   ]
  },
  {
   "cell_type": "code",
   "execution_count": 18,
   "id": "6d74a3a6",
   "metadata": {},
   "outputs": [
    {
     "name": "stdout",
     "output_type": "stream",
     "text": [
      "[[ 1.  0.  0.  0.  0.]\n",
      " [-1.  0.  1.  0.  0.]\n",
      " [ 0.  1.  0.  0.  0.]\n",
      " [ 0. -1.  1.  0.  0.]\n",
      " [ 0.  0.  0.  0.  1.]\n",
      " [ 0.  0.  0.  1. -1.]\n",
      " [ 0.  0. -1.  1.  0.]\n",
      " [ 0.  0.  1.  0.  0.]\n",
      " [ 0.  0.  0.  1.  0.]]\n"
     ]
    }
   ],
   "source": [
    "# Définition de la matrice d'incidence\n",
    "\n",
    "A = np.zeros((9,5))\n",
    "# definition coefficient 1\n",
    "A[0,0] = A[1,2] = A[2,1] = A[3,2] = A[4,4] = A[5,3] = A[6,3] = A[7,2] = A[8,3] = 1\n",
    "\n",
    "# definition coefficient -1\n",
    "A[1,0] = A[3,1] = A[5,4] = A[6,2] = -1\n",
    "\n",
    "print(A)"
   ]
  },
  {
   "cell_type": "code",
   "execution_count": 19,
   "id": "a8d6dc35",
   "metadata": {},
   "outputs": [
    {
     "name": "stdout",
     "output_type": "stream",
     "text": [
      "[[ 5.]\n",
      " [ 0.]\n",
      " [ 5.]\n",
      " [ 0.]\n",
      " [ 5.]\n",
      " [ 0.]\n",
      " [ 0.]\n",
      " [20.]\n",
      " [20.]]\n"
     ]
    }
   ],
   "source": [
    "# Définition de la matrice température source\n",
    "\n",
    "B = np.zeros((9,1))\n",
    "B[0,0] = B[2,0] = B[4,0] = T_ext\n",
    "B[7,0] = T_1\n",
    "B[8,0] = T_2\n",
    "print(B)"
   ]
  },
  {
   "cell_type": "code",
   "execution_count": 20,
   "id": "d8d4a30d",
   "metadata": {},
   "outputs": [
    {
     "name": "stdout",
     "output_type": "stream",
     "text": [
      "[[3600.]\n",
      " [3600.]\n",
      " [   0.]\n",
      " [   0.]\n",
      " [7200.]]\n"
     ]
    }
   ],
   "source": [
    "# Définition de la matrice des flux extérieurs\n",
    "\n",
    "F = np.zeros((5,1))\n",
    "F[4,0] = E*(L + 2*l)*H \n",
    "F[0,0] = E*L*H \n",
    "F[1,0] = E*2*l*H \n",
    "print(F)"
   ]
  },
  {
   "cell_type": "code",
   "execution_count": 21,
   "id": "f7b8a527",
   "metadata": {},
   "outputs": [
    {
     "name": "stdout",
     "output_type": "stream",
     "text": [
      "[[4.50000000e+02 0.00000000e+00 0.00000000e+00 0.00000000e+00\n",
      "  0.00000000e+00 0.00000000e+00 0.00000000e+00 0.00000000e+00\n",
      "  0.00000000e+00]\n",
      " [0.00000000e+00 9.16363636e+01 0.00000000e+00 0.00000000e+00\n",
      "  0.00000000e+00 0.00000000e+00 0.00000000e+00 0.00000000e+00\n",
      "  0.00000000e+00]\n",
      " [0.00000000e+00 0.00000000e+00 4.50000000e+02 0.00000000e+00\n",
      "  0.00000000e+00 0.00000000e+00 0.00000000e+00 0.00000000e+00\n",
      "  0.00000000e+00]\n",
      " [0.00000000e+00 0.00000000e+00 0.00000000e+00 9.79200000e+01\n",
      "  0.00000000e+00 0.00000000e+00 0.00000000e+00 0.00000000e+00\n",
      "  0.00000000e+00]\n",
      " [0.00000000e+00 0.00000000e+00 0.00000000e+00 0.00000000e+00\n",
      "  9.00000000e+02 0.00000000e+00 0.00000000e+00 0.00000000e+00\n",
      "  0.00000000e+00]\n",
      " [0.00000000e+00 0.00000000e+00 0.00000000e+00 0.00000000e+00\n",
      "  0.00000000e+00 1.48363636e+02 0.00000000e+00 0.00000000e+00\n",
      "  0.00000000e+00]\n",
      " [0.00000000e+00 0.00000000e+00 0.00000000e+00 0.00000000e+00\n",
      "  0.00000000e+00 0.00000000e+00 5.82857143e+01 0.00000000e+00\n",
      "  0.00000000e+00]\n",
      " [0.00000000e+00 0.00000000e+00 0.00000000e+00 0.00000000e+00\n",
      "  0.00000000e+00 0.00000000e+00 0.00000000e+00 1.00000000e+08\n",
      "  0.00000000e+00]\n",
      " [0.00000000e+00 0.00000000e+00 0.00000000e+00 0.00000000e+00\n",
      "  0.00000000e+00 0.00000000e+00 0.00000000e+00 0.00000000e+00\n",
      "  1.00000000e+08]]\n"
     ]
    }
   ],
   "source": [
    "# Définition de la matrice des conductances\n",
    "\n",
    "G = np.diag([G02, (Gi2*Gg)/(Gg + Gi2),G03, (Gi3*G3)/(G3 + Gi3), G0, (Gi*G1)/(G1 + Gi), (Gi2*G2)/(2*G2 + Gi2), k_1, k_2])\n",
    "print(G)"
   ]
  },
  {
   "cell_type": "markdown",
   "id": "07f0c50b",
   "metadata": {},
   "source": [
    "#### Loi des mailles et matrice de température"
   ]
  },
  {
   "cell_type": "code",
   "execution_count": 25,
   "id": "1490b8c1",
   "metadata": {},
   "outputs": [
    {
     "data": {
      "text/plain": [
       "array([[14.18428818],\n",
       "       [14.25098359],\n",
       "       [19.99998904],\n",
       "       [19.99999108],\n",
       "       [13.99063349]])"
      ]
     },
     "execution_count": 25,
     "metadata": {},
     "output_type": "execute_result"
    }
   ],
   "source": [
    "theta = np.linalg.inv((A.T@G@A))@(A.T@G@B + F)\n",
    "theta"
   ]
  },
  {
   "cell_type": "code",
   "execution_count": 23,
   "id": "84b2eca2",
   "metadata": {},
   "outputs": [
    {
     "data": {
      "text/plain": [
       "array([[-9.18428818e+00],\n",
       "       [-5.81570087e+00],\n",
       "       [-9.25098359e+00],\n",
       "       [-5.74900545e+00],\n",
       "       [-8.99063349e+00],\n",
       "       [-6.00935759e+00],\n",
       "       [-2.04301911e-06],\n",
       "       [ 1.09587217e-05],\n",
       "       [ 8.91570264e-06]])"
      ]
     },
     "execution_count": 23,
     "metadata": {},
     "output_type": "execute_result"
    }
   ],
   "source": [
    "E = -A@theta + B\n",
    "E"
   ]
  },
  {
   "cell_type": "markdown",
   "id": "82d7409e",
   "metadata": {},
   "source": [
    "#### Matrice des Fluxs"
   ]
  },
  {
   "cell_type": "code",
   "execution_count": 26,
   "id": "c09815fe",
   "metadata": {},
   "outputs": [
    {
     "data": {
      "text/plain": [
       "array([[-4.13292968e+03],\n",
       "       [-5.32929679e+02],\n",
       "       [-4.16294261e+03],\n",
       "       [-5.62942614e+02],\n",
       "       [-8.09157014e+03],\n",
       "       [-8.91570144e+02],\n",
       "       [-1.19078828e-04],\n",
       "       [ 1.09587217e+03],\n",
       "       [ 8.91570264e+02]])"
      ]
     },
     "execution_count": 26,
     "metadata": {},
     "output_type": "execute_result"
    }
   ],
   "source": [
    "Q = G@E\n",
    "Q"
   ]
  },
  {
   "cell_type": "code",
   "execution_count": 27,
   "id": "df7ec913",
   "metadata": {
    "scrolled": true
   },
   "outputs": [
    {
     "name": "stdout",
     "output_type": "stream",
     "text": [
      "[1095.87217429] [891.57026343]\n"
     ]
    }
   ],
   "source": [
    "FluxPièce1= - Q[1] - Q[3] + Q[6]\n",
    "FluxPièce2= - Q[5] - Q[6]\n",
    "\n",
    "print(FluxPièce1, FluxPièce2)"
   ]
  }
 ],
 "metadata": {
  "kernelspec": {
   "display_name": "Python 3 (ipykernel)",
   "language": "python",
   "name": "python3"
  },
  "language_info": {
   "codemirror_mode": {
    "name": "ipython",
    "version": 3
   },
   "file_extension": ".py",
   "mimetype": "text/x-python",
   "name": "python",
   "nbconvert_exporter": "python",
   "pygments_lexer": "ipython3",
   "version": "3.9.13"
  }
 },
 "nbformat": 4,
 "nbformat_minor": 5
}
